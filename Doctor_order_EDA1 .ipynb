`{
 "cells": [
  {
   "cell_type": "code",
   "execution_count": 75,
   "id": "73f79811",
   "metadata": {},
   "outputs": [],
   "source": [
    "import pandas as pd\n",
    "import numpy as np\n",
    "import datetime as dt\n",
    "import matplotlib.pyplot as plt\n",
    "import seaborn as sns\n",
    "from sklearn.preprocessing import LabelEncoder\n",
    "from sklearn.preprocessing import StandardScaler\n",
    "from sklearn.metrics import classification_report \n",
    "from sklearn.linear_model import LogisticRegression\n",
    "from sklearn.metrics import accuracy_score\n",
    "from sklearn.model_selection import train_test_split"
   ]
  },
  {
   "cell_type": "code",
   "execution_count": 33,
   "id": "a564285c",
   "metadata": {},
   "outputs": [],
   "source": [
    "#load the data\n",
    "\n",
    "file_path = '/Users/joeyren/Downloads/Case_Study.xlsx'\n",
    "df = pd.read_excel(file_path)"
   ]
  },
  {
   "cell_type": "code",
   "execution_count": 34,
   "id": "51689072",
   "metadata": {},
   "outputs": [],
   "source": [
    "orders = 'Orders'  \n",
    "doctors = 'Doctors' \n",
    "orders_df = pd.read_excel(file_path, sheet_name=orders)\n",
    "doctors_df = pd.read_excel(file_path, sheet_name=doctors)"
   ]
  },
  {
   "cell_type": "code",
   "execution_count": 35,
   "id": "dd0551f9",
   "metadata": {},
   "outputs": [
    {
     "name": "stdout",
     "output_type": "stream",
     "text": [
      "(220576, 3)\n",
      "(9691, 12)\n"
     ]
    }
   ],
   "source": [
    "print(orders_df.shape)\n",
    "print(doctors_df.shape)"
   ]
  },
  {
   "cell_type": "code",
   "execution_count": 36,
   "id": "f14538e9",
   "metadata": {},
   "outputs": [
    {
     "data": {
      "text/html": [
       "<div>\n",
       "<style scoped>\n",
       "    .dataframe tbody tr th:only-of-type {\n",
       "        vertical-align: middle;\n",
       "    }\n",
       "\n",
       "    .dataframe tbody tr th {\n",
       "        vertical-align: top;\n",
       "    }\n",
       "\n",
       "    .dataframe thead th {\n",
       "        text-align: right;\n",
       "    }\n",
       "</style>\n",
       "<table border=\"1\" class=\"dataframe\">\n",
       "  <thead>\n",
       "    <tr style=\"text-align: right;\">\n",
       "      <th></th>\n",
       "      <th>AccountNumber</th>\n",
       "      <th>Month</th>\n",
       "      <th>Order</th>\n",
       "    </tr>\n",
       "  </thead>\n",
       "  <tbody>\n",
       "    <tr>\n",
       "      <th>0</th>\n",
       "      <td>1086390</td>\n",
       "      <td>2019-11-01</td>\n",
       "      <td>0</td>\n",
       "    </tr>\n",
       "    <tr>\n",
       "      <th>1</th>\n",
       "      <td>1086390</td>\n",
       "      <td>2019-12-01</td>\n",
       "      <td>5</td>\n",
       "    </tr>\n",
       "    <tr>\n",
       "      <th>2</th>\n",
       "      <td>1079261</td>\n",
       "      <td>2019-11-01</td>\n",
       "      <td>6</td>\n",
       "    </tr>\n",
       "    <tr>\n",
       "      <th>3</th>\n",
       "      <td>1079261</td>\n",
       "      <td>2019-08-01</td>\n",
       "      <td>0</td>\n",
       "    </tr>\n",
       "    <tr>\n",
       "      <th>4</th>\n",
       "      <td>1079261</td>\n",
       "      <td>2019-12-01</td>\n",
       "      <td>10</td>\n",
       "    </tr>\n",
       "  </tbody>\n",
       "</table>\n",
       "</div>"
      ],
      "text/plain": [
       "   AccountNumber      Month  Order\n",
       "0        1086390 2019-11-01      0\n",
       "1        1086390 2019-12-01      5\n",
       "2        1079261 2019-11-01      6\n",
       "3        1079261 2019-08-01      0\n",
       "4        1079261 2019-12-01     10"
      ]
     },
     "execution_count": 36,
     "metadata": {},
     "output_type": "execute_result"
    }
   ],
   "source": [
    "orders_df.head()"
   ]
  },
  {
   "cell_type": "code",
   "execution_count": 37,
   "id": "39768d41",
   "metadata": {},
   "outputs": [
    {
     "data": {
      "text/html": [
       "<div>\n",
       "<style scoped>\n",
       "    .dataframe tbody tr th:only-of-type {\n",
       "        vertical-align: middle;\n",
       "    }\n",
       "\n",
       "    .dataframe tbody tr th {\n",
       "        vertical-align: top;\n",
       "    }\n",
       "\n",
       "    .dataframe thead th {\n",
       "        text-align: right;\n",
       "    }\n",
       "</style>\n",
       "<table border=\"1\" class=\"dataframe\">\n",
       "  <thead>\n",
       "    <tr style=\"text-align: right;\">\n",
       "      <th></th>\n",
       "      <th>AccountNumber</th>\n",
       "      <th>Month</th>\n",
       "      <th>Order</th>\n",
       "    </tr>\n",
       "  </thead>\n",
       "  <tbody>\n",
       "    <tr>\n",
       "      <th>220571</th>\n",
       "      <td>58154</td>\n",
       "      <td>2018-02-01</td>\n",
       "      <td>8</td>\n",
       "    </tr>\n",
       "    <tr>\n",
       "      <th>220572</th>\n",
       "      <td>58154</td>\n",
       "      <td>2018-10-01</td>\n",
       "      <td>16</td>\n",
       "    </tr>\n",
       "    <tr>\n",
       "      <th>220573</th>\n",
       "      <td>58154</td>\n",
       "      <td>2018-08-01</td>\n",
       "      <td>6</td>\n",
       "    </tr>\n",
       "    <tr>\n",
       "      <th>220574</th>\n",
       "      <td>58154</td>\n",
       "      <td>2019-02-01</td>\n",
       "      <td>11</td>\n",
       "    </tr>\n",
       "    <tr>\n",
       "      <th>220575</th>\n",
       "      <td>58154</td>\n",
       "      <td>2017-02-01</td>\n",
       "      <td>10</td>\n",
       "    </tr>\n",
       "  </tbody>\n",
       "</table>\n",
       "</div>"
      ],
      "text/plain": [
       "        AccountNumber      Month  Order\n",
       "220571          58154 2018-02-01      8\n",
       "220572          58154 2018-10-01     16\n",
       "220573          58154 2018-08-01      6\n",
       "220574          58154 2019-02-01     11\n",
       "220575          58154 2017-02-01     10"
      ]
     },
     "execution_count": 37,
     "metadata": {},
     "output_type": "execute_result"
    }
   ],
   "source": [
    "orders_df.tail()"
   ]
  },
  {
   "cell_type": "code",
   "execution_count": 38,
   "id": "1c368720",
   "metadata": {},
   "outputs": [
    {
     "data": {
      "text/html": [
       "<div>\n",
       "<style scoped>\n",
       "    .dataframe tbody tr th:only-of-type {\n",
       "        vertical-align: middle;\n",
       "    }\n",
       "\n",
       "    .dataframe tbody tr th {\n",
       "        vertical-align: top;\n",
       "    }\n",
       "\n",
       "    .dataframe thead th {\n",
       "        text-align: right;\n",
       "    }\n",
       "</style>\n",
       "<table border=\"1\" class=\"dataframe\">\n",
       "  <thead>\n",
       "    <tr style=\"text-align: right;\">\n",
       "      <th></th>\n",
       "      <th>ContactAccountNumber</th>\n",
       "      <th>ContactName</th>\n",
       "      <th>ContactProfessionalCategory</th>\n",
       "      <th>ContactCertificationDate</th>\n",
       "      <th>AdvantageLevel</th>\n",
       "      <th>Segment</th>\n",
       "      <th>iTero_Installed</th>\n",
       "      <th>AccountCity</th>\n",
       "      <th>AccountState</th>\n",
       "      <th>InvSalesAreaLable</th>\n",
       "      <th>InvSalesRegionLable</th>\n",
       "      <th>InvSalesTerritoryLable</th>\n",
       "    </tr>\n",
       "  </thead>\n",
       "  <tbody>\n",
       "    <tr>\n",
       "      <th>0</th>\n",
       "      <td>100297</td>\n",
       "      <td>Dr. Thad Burch</td>\n",
       "      <td>Ortho</td>\n",
       "      <td>2000-01-19</td>\n",
       "      <td>Platinum</td>\n",
       "      <td>B</td>\n",
       "      <td>Yes</td>\n",
       "      <td>Litchfield Park</td>\n",
       "      <td>Arizona</td>\n",
       "      <td>AMS-US-SW</td>\n",
       "      <td>AMS-US-SW-SX</td>\n",
       "      <td>AMS-US-SW-SX-OR-Phoenix</td>\n",
       "    </tr>\n",
       "    <tr>\n",
       "      <th>1</th>\n",
       "      <td>1005066</td>\n",
       "      <td>Dr. Rita Cordova</td>\n",
       "      <td>GP</td>\n",
       "      <td>2018-09-26</td>\n",
       "      <td>Silver</td>\n",
       "      <td>B</td>\n",
       "      <td>No</td>\n",
       "      <td>San Antonio</td>\n",
       "      <td>Texas</td>\n",
       "      <td>AMS-US-SW</td>\n",
       "      <td>AMS-US-SW-AM</td>\n",
       "      <td>AMS-US-SW-AM-GP-SanAntonW</td>\n",
       "    </tr>\n",
       "    <tr>\n",
       "      <th>2</th>\n",
       "      <td>1005902</td>\n",
       "      <td>Dr. Lloyd Schneider</td>\n",
       "      <td>GP</td>\n",
       "      <td>2018-10-16</td>\n",
       "      <td>Silver</td>\n",
       "      <td>C</td>\n",
       "      <td>No</td>\n",
       "      <td>Grand Prairie</td>\n",
       "      <td>Texas</td>\n",
       "      <td>AMS-US-SW</td>\n",
       "      <td>AMS-US-SW-DA</td>\n",
       "      <td>AMS-US-SW-DA-GP-Dallas</td>\n",
       "    </tr>\n",
       "    <tr>\n",
       "      <th>3</th>\n",
       "      <td>100641</td>\n",
       "      <td>Dr. Paris Howe</td>\n",
       "      <td>GP</td>\n",
       "      <td>2001-12-07</td>\n",
       "      <td>Silver</td>\n",
       "      <td>C</td>\n",
       "      <td>Yes</td>\n",
       "      <td>Glen Ellyn</td>\n",
       "      <td>Illinois</td>\n",
       "      <td>AMS-US-MW</td>\n",
       "      <td>AMS-US-MW-WC</td>\n",
       "      <td>AMS-US-MW-WC-GP-Elmhurst</td>\n",
       "    </tr>\n",
       "    <tr>\n",
       "      <th>4</th>\n",
       "      <td>100688</td>\n",
       "      <td>Dr. Ernestine Harrington</td>\n",
       "      <td>GP</td>\n",
       "      <td>2001-12-07</td>\n",
       "      <td>Silver</td>\n",
       "      <td>C</td>\n",
       "      <td>No</td>\n",
       "      <td>San Jose</td>\n",
       "      <td>California</td>\n",
       "      <td>AMS-US-WE</td>\n",
       "      <td>AMS-US-WE-GG</td>\n",
       "      <td>AMS-US-WE-GG-GP-LosGatos</td>\n",
       "    </tr>\n",
       "  </tbody>\n",
       "</table>\n",
       "</div>"
      ],
      "text/plain": [
       "   ContactAccountNumber               ContactName ContactProfessionalCategory  \\\n",
       "0                100297            Dr. Thad Burch                       Ortho   \n",
       "1               1005066          Dr. Rita Cordova                          GP   \n",
       "2               1005902       Dr. Lloyd Schneider                          GP   \n",
       "3                100641            Dr. Paris Howe                          GP   \n",
       "4                100688  Dr. Ernestine Harrington                          GP   \n",
       "\n",
       "  ContactCertificationDate AdvantageLevel Segment iTero_Installed  \\\n",
       "0               2000-01-19       Platinum       B             Yes   \n",
       "1               2018-09-26         Silver       B              No   \n",
       "2               2018-10-16         Silver       C              No   \n",
       "3               2001-12-07         Silver       C             Yes   \n",
       "4               2001-12-07         Silver       C              No   \n",
       "\n",
       "       AccountCity AccountState InvSalesAreaLable InvSalesRegionLable  \\\n",
       "0  Litchfield Park      Arizona         AMS-US-SW        AMS-US-SW-SX   \n",
       "1      San Antonio        Texas         AMS-US-SW        AMS-US-SW-AM   \n",
       "2    Grand Prairie        Texas         AMS-US-SW        AMS-US-SW-DA   \n",
       "3       Glen Ellyn     Illinois         AMS-US-MW        AMS-US-MW-WC   \n",
       "4         San Jose   California         AMS-US-WE        AMS-US-WE-GG   \n",
       "\n",
       "      InvSalesTerritoryLable  \n",
       "0    AMS-US-SW-SX-OR-Phoenix  \n",
       "1  AMS-US-SW-AM-GP-SanAntonW  \n",
       "2     AMS-US-SW-DA-GP-Dallas  \n",
       "3   AMS-US-MW-WC-GP-Elmhurst  \n",
       "4   AMS-US-WE-GG-GP-LosGatos  "
      ]
     },
     "execution_count": 38,
     "metadata": {},
     "output_type": "execute_result"
    }
   ],
   "source": [
    "doctors_df.head()"
   ]
  },
  {
   "cell_type": "code",
   "execution_count": 39,
   "id": "904b550b",
   "metadata": {},
   "outputs": [
    {
     "data": {
      "text/html": [
       "<div>\n",
       "<style scoped>\n",
       "    .dataframe tbody tr th:only-of-type {\n",
       "        vertical-align: middle;\n",
       "    }\n",
       "\n",
       "    .dataframe tbody tr th {\n",
       "        vertical-align: top;\n",
       "    }\n",
       "\n",
       "    .dataframe thead th {\n",
       "        text-align: right;\n",
       "    }\n",
       "</style>\n",
       "<table border=\"1\" class=\"dataframe\">\n",
       "  <thead>\n",
       "    <tr style=\"text-align: right;\">\n",
       "      <th></th>\n",
       "      <th>ContactAccountNumber</th>\n",
       "      <th>ContactName</th>\n",
       "      <th>ContactProfessionalCategory</th>\n",
       "      <th>ContactCertificationDate</th>\n",
       "      <th>AdvantageLevel</th>\n",
       "      <th>Segment</th>\n",
       "      <th>iTero_Installed</th>\n",
       "      <th>AccountCity</th>\n",
       "      <th>AccountState</th>\n",
       "      <th>InvSalesAreaLable</th>\n",
       "      <th>InvSalesRegionLable</th>\n",
       "      <th>InvSalesTerritoryLable</th>\n",
       "    </tr>\n",
       "  </thead>\n",
       "  <tbody>\n",
       "    <tr>\n",
       "      <th>9686</th>\n",
       "      <td>97557</td>\n",
       "      <td>Dr. Armani Pham</td>\n",
       "      <td>GP</td>\n",
       "      <td>2001-12-07</td>\n",
       "      <td>Bronze</td>\n",
       "      <td>D</td>\n",
       "      <td>No</td>\n",
       "      <td>Clinton Township</td>\n",
       "      <td>Michigan</td>\n",
       "      <td>AMS-US-MW</td>\n",
       "      <td>AMS-US-MW-GL</td>\n",
       "      <td>AMS-US-MW-GL-GP-RoyalOak</td>\n",
       "    </tr>\n",
       "    <tr>\n",
       "      <th>9687</th>\n",
       "      <td>98348</td>\n",
       "      <td>Dr. Karma Hill</td>\n",
       "      <td>GP</td>\n",
       "      <td>2001-12-07</td>\n",
       "      <td>Silver</td>\n",
       "      <td>C</td>\n",
       "      <td>No</td>\n",
       "      <td>Fort Smith</td>\n",
       "      <td>Arkansas</td>\n",
       "      <td>AMS-US-SE</td>\n",
       "      <td>AMS-US-SE-NA</td>\n",
       "      <td>AMS-US-SE-NA-GP-LittleRoc</td>\n",
       "    </tr>\n",
       "    <tr>\n",
       "      <th>9688</th>\n",
       "      <td>98531</td>\n",
       "      <td>Dr. Marin Cowan</td>\n",
       "      <td>Ortho</td>\n",
       "      <td>2000-05-19</td>\n",
       "      <td>Diamond</td>\n",
       "      <td>B</td>\n",
       "      <td>Yes</td>\n",
       "      <td>Birmingham</td>\n",
       "      <td>Alabama</td>\n",
       "      <td>AMS-US-SE</td>\n",
       "      <td>AMS-US-SE-NX</td>\n",
       "      <td>AMS-US-SE-NX-OR-Birmingh</td>\n",
       "    </tr>\n",
       "    <tr>\n",
       "      <th>9689</th>\n",
       "      <td>98803</td>\n",
       "      <td>Dr. Coleman Berger</td>\n",
       "      <td>GP</td>\n",
       "      <td>2002-02-22</td>\n",
       "      <td>Bronze</td>\n",
       "      <td>D</td>\n",
       "      <td>No</td>\n",
       "      <td>Houston</td>\n",
       "      <td>Texas</td>\n",
       "      <td>AMS-US-SW</td>\n",
       "      <td>AMS-US-SW-LS</td>\n",
       "      <td>AMS-US-SW-LS-GP-Bellaire</td>\n",
       "    </tr>\n",
       "    <tr>\n",
       "      <th>9690</th>\n",
       "      <td>98942</td>\n",
       "      <td>Dr. Noel Collier</td>\n",
       "      <td>GP</td>\n",
       "      <td>2001-11-04</td>\n",
       "      <td>Gold</td>\n",
       "      <td>B</td>\n",
       "      <td>Yes</td>\n",
       "      <td>Texas City</td>\n",
       "      <td>Texas</td>\n",
       "      <td>AMS-US-SW</td>\n",
       "      <td>AMS-US-SW-LS</td>\n",
       "      <td>AMS-US-SW-LS-GP-HoustonE</td>\n",
       "    </tr>\n",
       "  </tbody>\n",
       "</table>\n",
       "</div>"
      ],
      "text/plain": [
       "      ContactAccountNumber         ContactName ContactProfessionalCategory  \\\n",
       "9686                 97557     Dr. Armani Pham                          GP   \n",
       "9687                 98348      Dr. Karma Hill                          GP   \n",
       "9688                 98531     Dr. Marin Cowan                       Ortho   \n",
       "9689                 98803  Dr. Coleman Berger                          GP   \n",
       "9690                 98942    Dr. Noel Collier                          GP   \n",
       "\n",
       "     ContactCertificationDate AdvantageLevel Segment iTero_Installed  \\\n",
       "9686               2001-12-07         Bronze       D              No   \n",
       "9687               2001-12-07         Silver       C              No   \n",
       "9688               2000-05-19        Diamond       B             Yes   \n",
       "9689               2002-02-22         Bronze       D              No   \n",
       "9690               2001-11-04           Gold       B             Yes   \n",
       "\n",
       "           AccountCity AccountState InvSalesAreaLable InvSalesRegionLable  \\\n",
       "9686  Clinton Township     Michigan         AMS-US-MW        AMS-US-MW-GL   \n",
       "9687        Fort Smith     Arkansas         AMS-US-SE        AMS-US-SE-NA   \n",
       "9688        Birmingham      Alabama         AMS-US-SE        AMS-US-SE-NX   \n",
       "9689           Houston        Texas         AMS-US-SW        AMS-US-SW-LS   \n",
       "9690        Texas City        Texas         AMS-US-SW        AMS-US-SW-LS   \n",
       "\n",
       "         InvSalesTerritoryLable  \n",
       "9686   AMS-US-MW-GL-GP-RoyalOak  \n",
       "9687  AMS-US-SE-NA-GP-LittleRoc  \n",
       "9688   AMS-US-SE-NX-OR-Birmingh  \n",
       "9689   AMS-US-SW-LS-GP-Bellaire  \n",
       "9690   AMS-US-SW-LS-GP-HoustonE  "
      ]
     },
     "execution_count": 39,
     "metadata": {},
     "output_type": "execute_result"
    }
   ],
   "source": [
    "doctors_df.tail()"
   ]
  },
  {
   "cell_type": "code",
   "execution_count": 40,
   "id": "6603d9c9",
   "metadata": {},
   "outputs": [
    {
     "name": "stdout",
     "output_type": "stream",
     "text": [
      "AccountNumber             int64\n",
      "Month            datetime64[ns]\n",
      "Order                     int64\n",
      "dtype: object\n",
      "ContactAccountNumber                    int64\n",
      "ContactName                            object\n",
      "ContactProfessionalCategory            object\n",
      "ContactCertificationDate       datetime64[ns]\n",
      "AdvantageLevel                         object\n",
      "Segment                                object\n",
      "iTero_Installed                        object\n",
      "AccountCity                            object\n",
      "AccountState                           object\n",
      "InvSalesAreaLable                      object\n",
      "InvSalesRegionLable                    object\n",
      "InvSalesTerritoryLable                 object\n",
      "dtype: object\n"
     ]
    }
   ],
   "source": [
    "print(orders_df.dtypes)\n",
    "print(doctors_df.dtypes)"
   ]
  },
  {
   "cell_type": "code",
   "execution_count": 41,
   "id": "85f804bc",
   "metadata": {},
   "outputs": [
    {
     "name": "stdout",
     "output_type": "stream",
     "text": [
      "       AccountNumber          Order\n",
      "count   2.205760e+05  220576.000000\n",
      "mean    2.725437e+05       4.159133\n",
      "std     2.029868e+05      14.209398\n",
      "min     5.815400e+04      -2.000000\n",
      "25%     1.316810e+05       0.000000\n",
      "50%     2.113770e+05       1.000000\n",
      "75%     3.875370e+05       4.000000\n",
      "max     1.086390e+06     810.000000\n",
      "       ContactAccountNumber\n",
      "count          9.691000e+03\n",
      "mean           2.812633e+05\n",
      "std            2.037387e+05\n",
      "min            5.815400e+04\n",
      "25%            1.400205e+05\n",
      "50%            2.176770e+05\n",
      "75%            3.906120e+05\n",
      "max            1.086390e+06\n"
     ]
    }
   ],
   "source": [
    "print(orders_df.describe())\n",
    "print(doctors_df.describe())"
   ]
  },
  {
   "cell_type": "code",
   "execution_count": 42,
   "id": "053ba6fa",
   "metadata": {},
   "outputs": [
    {
     "name": "stdout",
     "output_type": "stream",
     "text": [
      "Has negative values: True\n",
      "(25, 3)\n",
      "        AccountNumber      Month  Order\n",
      "10315          890290 2019-05-01     -1\n",
      "12375          521257 2019-05-01     -1\n",
      "32374          443858 2018-04-01     -1\n",
      "39952          418028 2017-08-01     -1\n",
      "57869          382092 2017-11-01     -2\n",
      "63872          363187 2018-01-01     -2\n",
      "65684          357099 2018-06-01     -1\n",
      "74360          312107 2017-12-01     -2\n",
      "90051          245370 2018-01-01     -1\n",
      "111996         208371 2017-07-01     -1\n",
      "115376         203177 2019-03-01     -1\n",
      "125886         188983 2018-12-01     -1\n",
      "128305         185755 2017-10-01     -1\n",
      "132616         178345 2017-01-01     -1\n",
      "135985         172888 2018-04-01     -1\n",
      "155551         144417 2017-01-01     -1\n",
      "168831         126545 2019-08-01     -1\n",
      "169571         125374 2019-10-01     -1\n",
      "174063         118352 2018-01-01     -1\n",
      "176233         116010 2017-10-01     -2\n",
      "176594         115386 2019-04-01     -1\n",
      "179309         109531 2018-04-01     -1\n",
      "181561         106668 2017-01-01     -1\n",
      "183005         104235 2017-08-01     -1\n",
      "206365          63077 2019-01-01     -2\n"
     ]
    }
   ],
   "source": [
    "has_negative_values = orders_df['Order'].lt(0).any()\n",
    "print(\"Has negative values:\", has_negative_values)\n",
    "negative_rows = orders_df[orders_df['Order'] < 0]\n",
    "print(negative_rows.shape)\n",
    "print(negative_rows)"
   ]
  },
  {
   "cell_type": "code",
   "execution_count": 43,
   "id": "af4db2cb",
   "metadata": {},
   "outputs": [
    {
     "name": "stdout",
     "output_type": "stream",
     "text": [
      "AccountNumber    0\n",
      "Month            0\n",
      "Order            0\n",
      "dtype: int64\n"
     ]
    }
   ],
   "source": [
    "print(orders_df.isnull().sum())"
   ]
  },
  {
   "cell_type": "code",
   "execution_count": 44,
   "id": "3f020824",
   "metadata": {},
   "outputs": [
    {
     "name": "stdout",
     "output_type": "stream",
     "text": [
      "ContactAccountNumber             0\n",
      "ContactName                      0\n",
      "ContactProfessionalCategory      0\n",
      "ContactCertificationDate       135\n",
      "AdvantageLevel                   0\n",
      "Segment                          0\n",
      "iTero_Installed                 10\n",
      "AccountCity                      0\n",
      "AccountState                     3\n",
      "InvSalesAreaLable                0\n",
      "InvSalesRegionLable              0\n",
      "InvSalesTerritoryLable           0\n",
      "dtype: int64\n"
     ]
    }
   ],
   "source": [
    "print(doctors_df.isnull().sum())"
   ]
  },
  {
   "cell_type": "code",
   "execution_count": 45,
   "id": "f1102b31",
   "metadata": {},
   "outputs": [
    {
     "name": "stdout",
     "output_type": "stream",
     "text": [
      "0\n",
      "0\n"
     ]
    }
   ],
   "source": [
    "print(orders_df.duplicated().sum())\n",
    "print(doctors_df.duplicated().sum())"
   ]
  },
  {
   "cell_type": "code",
   "execution_count": 47,
   "id": "245eeb60",
   "metadata": {},
   "outputs": [
    {
     "data": {
      "text/html": [
       "<div>\n",
       "<style scoped>\n",
       "    .dataframe tbody tr th:only-of-type {\n",
       "        vertical-align: middle;\n",
       "    }\n",
       "\n",
       "    .dataframe tbody tr th {\n",
       "        vertical-align: top;\n",
       "    }\n",
       "\n",
       "    .dataframe thead th {\n",
       "        text-align: right;\n",
       "    }\n",
       "</style>\n",
       "<table border=\"1\" class=\"dataframe\">\n",
       "  <thead>\n",
       "    <tr style=\"text-align: right;\">\n",
       "      <th></th>\n",
       "      <th>AccountNumber</th>\n",
       "      <th>Date</th>\n",
       "      <th>Order</th>\n",
       "    </tr>\n",
       "  </thead>\n",
       "  <tbody>\n",
       "    <tr>\n",
       "      <th>0</th>\n",
       "      <td>1086390</td>\n",
       "      <td>2019-11-01</td>\n",
       "      <td>0</td>\n",
       "    </tr>\n",
       "    <tr>\n",
       "      <th>1</th>\n",
       "      <td>1086390</td>\n",
       "      <td>2019-12-01</td>\n",
       "      <td>5</td>\n",
       "    </tr>\n",
       "    <tr>\n",
       "      <th>2</th>\n",
       "      <td>1079261</td>\n",
       "      <td>2019-11-01</td>\n",
       "      <td>6</td>\n",
       "    </tr>\n",
       "    <tr>\n",
       "      <th>3</th>\n",
       "      <td>1079261</td>\n",
       "      <td>2019-08-01</td>\n",
       "      <td>0</td>\n",
       "    </tr>\n",
       "    <tr>\n",
       "      <th>4</th>\n",
       "      <td>1079261</td>\n",
       "      <td>2019-12-01</td>\n",
       "      <td>10</td>\n",
       "    </tr>\n",
       "  </tbody>\n",
       "</table>\n",
       "</div>"
      ],
      "text/plain": [
       "   AccountNumber       Date  Order\n",
       "0        1086390 2019-11-01      0\n",
       "1        1086390 2019-12-01      5\n",
       "2        1079261 2019-11-01      6\n",
       "3        1079261 2019-08-01      0\n",
       "4        1079261 2019-12-01     10"
      ]
     },
     "execution_count": 47,
     "metadata": {},
     "output_type": "execute_result"
    }
   ],
   "source": [
    "orders_df.rename(columns={'Month': 'Date'}, inplace=True)\n",
    "orders_df.head()"
   ]
  },
  {
   "cell_type": "code",
   "execution_count": 48,
   "id": "9c587fb1",
   "metadata": {},
   "outputs": [
    {
     "data": {
      "text/html": [
       "<div>\n",
       "<style scoped>\n",
       "    .dataframe tbody tr th:only-of-type {\n",
       "        vertical-align: middle;\n",
       "    }\n",
       "\n",
       "    .dataframe tbody tr th {\n",
       "        vertical-align: top;\n",
       "    }\n",
       "\n",
       "    .dataframe thead th {\n",
       "        text-align: right;\n",
       "    }\n",
       "</style>\n",
       "<table border=\"1\" class=\"dataframe\">\n",
       "  <thead>\n",
       "    <tr style=\"text-align: right;\">\n",
       "      <th></th>\n",
       "      <th>AccountNumber</th>\n",
       "      <th>Date</th>\n",
       "      <th>Order</th>\n",
       "      <th>Year</th>\n",
       "      <th>Month</th>\n",
       "    </tr>\n",
       "  </thead>\n",
       "  <tbody>\n",
       "    <tr>\n",
       "      <th>0</th>\n",
       "      <td>1086390</td>\n",
       "      <td>2019-11-01</td>\n",
       "      <td>0</td>\n",
       "      <td>2019</td>\n",
       "      <td>11</td>\n",
       "    </tr>\n",
       "    <tr>\n",
       "      <th>1</th>\n",
       "      <td>1086390</td>\n",
       "      <td>2019-12-01</td>\n",
       "      <td>5</td>\n",
       "      <td>2019</td>\n",
       "      <td>12</td>\n",
       "    </tr>\n",
       "    <tr>\n",
       "      <th>2</th>\n",
       "      <td>1079261</td>\n",
       "      <td>2019-11-01</td>\n",
       "      <td>6</td>\n",
       "      <td>2019</td>\n",
       "      <td>11</td>\n",
       "    </tr>\n",
       "    <tr>\n",
       "      <th>3</th>\n",
       "      <td>1079261</td>\n",
       "      <td>2019-08-01</td>\n",
       "      <td>0</td>\n",
       "      <td>2019</td>\n",
       "      <td>8</td>\n",
       "    </tr>\n",
       "    <tr>\n",
       "      <th>4</th>\n",
       "      <td>1079261</td>\n",
       "      <td>2019-12-01</td>\n",
       "      <td>10</td>\n",
       "      <td>2019</td>\n",
       "      <td>12</td>\n",
       "    </tr>\n",
       "    <tr>\n",
       "      <th>...</th>\n",
       "      <td>...</td>\n",
       "      <td>...</td>\n",
       "      <td>...</td>\n",
       "      <td>...</td>\n",
       "      <td>...</td>\n",
       "    </tr>\n",
       "    <tr>\n",
       "      <th>220571</th>\n",
       "      <td>58154</td>\n",
       "      <td>2018-02-01</td>\n",
       "      <td>8</td>\n",
       "      <td>2018</td>\n",
       "      <td>2</td>\n",
       "    </tr>\n",
       "    <tr>\n",
       "      <th>220572</th>\n",
       "      <td>58154</td>\n",
       "      <td>2018-10-01</td>\n",
       "      <td>16</td>\n",
       "      <td>2018</td>\n",
       "      <td>10</td>\n",
       "    </tr>\n",
       "    <tr>\n",
       "      <th>220573</th>\n",
       "      <td>58154</td>\n",
       "      <td>2018-08-01</td>\n",
       "      <td>6</td>\n",
       "      <td>2018</td>\n",
       "      <td>8</td>\n",
       "    </tr>\n",
       "    <tr>\n",
       "      <th>220574</th>\n",
       "      <td>58154</td>\n",
       "      <td>2019-02-01</td>\n",
       "      <td>11</td>\n",
       "      <td>2019</td>\n",
       "      <td>2</td>\n",
       "    </tr>\n",
       "    <tr>\n",
       "      <th>220575</th>\n",
       "      <td>58154</td>\n",
       "      <td>2017-02-01</td>\n",
       "      <td>10</td>\n",
       "      <td>2017</td>\n",
       "      <td>2</td>\n",
       "    </tr>\n",
       "  </tbody>\n",
       "</table>\n",
       "<p>220576 rows × 5 columns</p>\n",
       "</div>"
      ],
      "text/plain": [
       "        AccountNumber       Date  Order  Year  Month\n",
       "0             1086390 2019-11-01      0  2019     11\n",
       "1             1086390 2019-12-01      5  2019     12\n",
       "2             1079261 2019-11-01      6  2019     11\n",
       "3             1079261 2019-08-01      0  2019      8\n",
       "4             1079261 2019-12-01     10  2019     12\n",
       "...               ...        ...    ...   ...    ...\n",
       "220571          58154 2018-02-01      8  2018      2\n",
       "220572          58154 2018-10-01     16  2018     10\n",
       "220573          58154 2018-08-01      6  2018      8\n",
       "220574          58154 2019-02-01     11  2019      2\n",
       "220575          58154 2017-02-01     10  2017      2\n",
       "\n",
       "[220576 rows x 5 columns]"
      ]
     },
     "execution_count": 48,
     "metadata": {},
     "output_type": "execute_result"
    }
   ],
   "source": [
    "orders_df['Year'] = orders_df['Date'].dt.year\n",
    "orders_df['Month'] = orders_df['Date'].dt.month\n",
    "\n",
    "orders_df"
   ]
  },
  {
   "cell_type": "code",
   "execution_count": 49,
   "id": "2554e6d1",
   "metadata": {},
   "outputs": [
    {
     "data": {
      "text/plain": [
       "8687"
      ]
     },
     "execution_count": 49,
     "metadata": {},
     "output_type": "execute_result"
    }
   ],
   "source": [
    "# extracts the data from orders_df into separate DataFrames for each year (2017, 2018, and 2019)\n",
    "\n",
    "doctor_2017 = orders_df.loc[orders_df['Date'].dt.year == 2017, 'AccountNumber'].unique().tolist()\n",
    "doctor_2018 = orders_df.loc[orders_df['Date'].dt.year == 2018, 'AccountNumber'].unique().tolist()\n",
    "doctor_2019 = orders_df.loc[orders_df['Date'].dt.year == 2019, 'AccountNumber'].unique()\n",
    "\n",
    "len(doctor_2019)"
   ]
  },
  {
   "cell_type": "code",
   "execution_count": 51,
   "id": "a39ff541",
   "metadata": {},
   "outputs": [
    {
     "name": "stdout",
     "output_type": "stream",
     "text": [
      "394\n"
     ]
    }
   ],
   "source": [
    "churned2018 = []\n",
    "\n",
    "for i in doctor_2017:\n",
    "    if i not in doctor_2018:\n",
    "        churned2018.append(i)\n",
    "\n",
    "                \n",
    "print(len(churned2018))\n"
   ]
  },
  {
   "cell_type": "code",
   "execution_count": 52,
   "id": "a6e5b8a2",
   "metadata": {},
   "outputs": [
    {
     "name": "stdout",
     "output_type": "stream",
     "text": [
      "307\n"
     ]
    }
   ],
   "source": [
    "\n",
    "churned2019 = []\n",
    "for i in doctor_2018:\n",
    "    if i not in doctor_2019:\n",
    "        churned2019.append(i)\n",
    "    \n",
    "print(len(churned2019))"
   ]
  },
  {
   "cell_type": "code",
   "execution_count": 53,
   "id": "a29664cb",
   "metadata": {},
   "outputs": [
    {
     "name": "stdout",
     "output_type": "stream",
     "text": [
      "        AccountNumber      Month  Order\n",
      "0             1086390 2019-11-01      0\n",
      "1             1086390 2019-12-01      5\n",
      "2             1079261 2019-11-01      6\n",
      "3             1079261 2019-08-01      0\n",
      "4             1079261 2019-12-01     10\n",
      "...               ...        ...    ...\n",
      "220571          58154 2018-02-01      8\n",
      "220572          58154 2018-10-01     16\n",
      "220573          58154 2018-08-01      6\n",
      "220574          58154 2019-02-01     11\n",
      "220575          58154 2017-02-01     10\n",
      "\n",
      "[220576 rows x 3 columns]\n"
     ]
    }
   ],
   "source": [
    "doctors_df['Churned'] = 0  # Initialize with 0 for all rows\n",
    "doctors_df.loc[doctors_df['ContactAccountNumber'].isin(churned2018) | doctors_df['ContactAccountNumber'].isin(churned2019), 'Churned'] = 1\n",
    "\n",
    "print(df)"
   ]
  },
  {
   "cell_type": "code",
   "execution_count": 54,
   "id": "20b9fa67",
   "metadata": {},
   "outputs": [
    {
     "data": {
      "text/html": [
       "<div>\n",
       "<style scoped>\n",
       "    .dataframe tbody tr th:only-of-type {\n",
       "        vertical-align: middle;\n",
       "    }\n",
       "\n",
       "    .dataframe tbody tr th {\n",
       "        vertical-align: top;\n",
       "    }\n",
       "\n",
       "    .dataframe thead th {\n",
       "        text-align: right;\n",
       "    }\n",
       "</style>\n",
       "<table border=\"1\" class=\"dataframe\">\n",
       "  <thead>\n",
       "    <tr style=\"text-align: right;\">\n",
       "      <th></th>\n",
       "      <th>ContactAccountNumber</th>\n",
       "      <th>ContactName</th>\n",
       "      <th>ContactProfessionalCategory</th>\n",
       "      <th>ContactCertificationDate</th>\n",
       "      <th>AdvantageLevel</th>\n",
       "      <th>Segment</th>\n",
       "      <th>iTero_Installed</th>\n",
       "      <th>AccountCity</th>\n",
       "      <th>AccountState</th>\n",
       "      <th>InvSalesAreaLable</th>\n",
       "      <th>InvSalesRegionLable</th>\n",
       "      <th>InvSalesTerritoryLable</th>\n",
       "      <th>Churned</th>\n",
       "      <th>Tenure</th>\n",
       "    </tr>\n",
       "  </thead>\n",
       "  <tbody>\n",
       "    <tr>\n",
       "      <th>0</th>\n",
       "      <td>100297</td>\n",
       "      <td>Dr. Thad Burch</td>\n",
       "      <td>Ortho</td>\n",
       "      <td>2000-01-19</td>\n",
       "      <td>Platinum</td>\n",
       "      <td>B</td>\n",
       "      <td>Yes</td>\n",
       "      <td>Litchfield Park</td>\n",
       "      <td>Arizona</td>\n",
       "      <td>AMS-US-SW</td>\n",
       "      <td>AMS-US-SW-SX</td>\n",
       "      <td>AMS-US-SW-SX-OR-Phoenix</td>\n",
       "      <td>0</td>\n",
       "      <td>19.95</td>\n",
       "    </tr>\n",
       "    <tr>\n",
       "      <th>1</th>\n",
       "      <td>1005066</td>\n",
       "      <td>Dr. Rita Cordova</td>\n",
       "      <td>GP</td>\n",
       "      <td>2018-09-26</td>\n",
       "      <td>Silver</td>\n",
       "      <td>B</td>\n",
       "      <td>No</td>\n",
       "      <td>San Antonio</td>\n",
       "      <td>Texas</td>\n",
       "      <td>AMS-US-SW</td>\n",
       "      <td>AMS-US-SW-AM</td>\n",
       "      <td>AMS-US-SW-AM-GP-SanAntonW</td>\n",
       "      <td>0</td>\n",
       "      <td>1.26</td>\n",
       "    </tr>\n",
       "    <tr>\n",
       "      <th>2</th>\n",
       "      <td>1005902</td>\n",
       "      <td>Dr. Lloyd Schneider</td>\n",
       "      <td>GP</td>\n",
       "      <td>2018-10-16</td>\n",
       "      <td>Silver</td>\n",
       "      <td>C</td>\n",
       "      <td>No</td>\n",
       "      <td>Grand Prairie</td>\n",
       "      <td>Texas</td>\n",
       "      <td>AMS-US-SW</td>\n",
       "      <td>AMS-US-SW-DA</td>\n",
       "      <td>AMS-US-SW-DA-GP-Dallas</td>\n",
       "      <td>0</td>\n",
       "      <td>1.21</td>\n",
       "    </tr>\n",
       "    <tr>\n",
       "      <th>3</th>\n",
       "      <td>100641</td>\n",
       "      <td>Dr. Paris Howe</td>\n",
       "      <td>GP</td>\n",
       "      <td>2001-12-07</td>\n",
       "      <td>Silver</td>\n",
       "      <td>C</td>\n",
       "      <td>Yes</td>\n",
       "      <td>Glen Ellyn</td>\n",
       "      <td>Illinois</td>\n",
       "      <td>AMS-US-MW</td>\n",
       "      <td>AMS-US-MW-WC</td>\n",
       "      <td>AMS-US-MW-WC-GP-Elmhurst</td>\n",
       "      <td>0</td>\n",
       "      <td>18.06</td>\n",
       "    </tr>\n",
       "    <tr>\n",
       "      <th>4</th>\n",
       "      <td>100688</td>\n",
       "      <td>Dr. Ernestine Harrington</td>\n",
       "      <td>GP</td>\n",
       "      <td>2001-12-07</td>\n",
       "      <td>Silver</td>\n",
       "      <td>C</td>\n",
       "      <td>No</td>\n",
       "      <td>San Jose</td>\n",
       "      <td>California</td>\n",
       "      <td>AMS-US-WE</td>\n",
       "      <td>AMS-US-WE-GG</td>\n",
       "      <td>AMS-US-WE-GG-GP-LosGatos</td>\n",
       "      <td>0</td>\n",
       "      <td>18.06</td>\n",
       "    </tr>\n",
       "  </tbody>\n",
       "</table>\n",
       "</div>"
      ],
      "text/plain": [
       "   ContactAccountNumber               ContactName ContactProfessionalCategory  \\\n",
       "0                100297            Dr. Thad Burch                       Ortho   \n",
       "1               1005066          Dr. Rita Cordova                          GP   \n",
       "2               1005902       Dr. Lloyd Schneider                          GP   \n",
       "3                100641            Dr. Paris Howe                          GP   \n",
       "4                100688  Dr. Ernestine Harrington                          GP   \n",
       "\n",
       "  ContactCertificationDate AdvantageLevel Segment iTero_Installed  \\\n",
       "0               2000-01-19       Platinum       B             Yes   \n",
       "1               2018-09-26         Silver       B              No   \n",
       "2               2018-10-16         Silver       C              No   \n",
       "3               2001-12-07         Silver       C             Yes   \n",
       "4               2001-12-07         Silver       C              No   \n",
       "\n",
       "       AccountCity AccountState InvSalesAreaLable InvSalesRegionLable  \\\n",
       "0  Litchfield Park      Arizona         AMS-US-SW        AMS-US-SW-SX   \n",
       "1      San Antonio        Texas         AMS-US-SW        AMS-US-SW-AM   \n",
       "2    Grand Prairie        Texas         AMS-US-SW        AMS-US-SW-DA   \n",
       "3       Glen Ellyn     Illinois         AMS-US-MW        AMS-US-MW-WC   \n",
       "4         San Jose   California         AMS-US-WE        AMS-US-WE-GG   \n",
       "\n",
       "      InvSalesTerritoryLable  Churned  Tenure  \n",
       "0    AMS-US-SW-SX-OR-Phoenix        0   19.95  \n",
       "1  AMS-US-SW-AM-GP-SanAntonW        0    1.26  \n",
       "2     AMS-US-SW-DA-GP-Dallas        0    1.21  \n",
       "3   AMS-US-MW-WC-GP-Elmhurst        0   18.06  \n",
       "4   AMS-US-WE-GG-GP-LosGatos        0   18.06  "
      ]
     },
     "execution_count": 54,
     "metadata": {},
     "output_type": "execute_result"
    }
   ],
   "source": [
    "reference_date = pd.to_datetime('2019-12-31')\n",
    "doctors_df['Tenure'] = (reference_date - doctors_df['ContactCertificationDate']).dt.days / 365.25\n",
    "doctors_df['Tenure'] = doctors_df['Tenure'].round(2)\n",
    "\n",
    "# Display the updated DataFrame\n",
    "doctors_df.head()"
   ]
  },
  {
   "cell_type": "code",
   "execution_count": 55,
   "id": "f9d5ab02",
   "metadata": {},
   "outputs": [
    {
     "data": {
      "text/html": [
       "<div>\n",
       "<style scoped>\n",
       "    .dataframe tbody tr th:only-of-type {\n",
       "        vertical-align: middle;\n",
       "    }\n",
       "\n",
       "    .dataframe tbody tr th {\n",
       "        vertical-align: top;\n",
       "    }\n",
       "\n",
       "    .dataframe thead th {\n",
       "        text-align: right;\n",
       "    }\n",
       "</style>\n",
       "<table border=\"1\" class=\"dataframe\">\n",
       "  <thead>\n",
       "    <tr style=\"text-align: right;\">\n",
       "      <th></th>\n",
       "      <th>ContactAccountNumber</th>\n",
       "      <th>Churned</th>\n",
       "      <th>Tenure</th>\n",
       "    </tr>\n",
       "  </thead>\n",
       "  <tbody>\n",
       "    <tr>\n",
       "      <th>count</th>\n",
       "      <td>9.691000e+03</td>\n",
       "      <td>9691.000000</td>\n",
       "      <td>9556.000000</td>\n",
       "    </tr>\n",
       "    <tr>\n",
       "      <th>mean</th>\n",
       "      <td>2.812633e+05</td>\n",
       "      <td>0.072335</td>\n",
       "      <td>11.877100</td>\n",
       "    </tr>\n",
       "    <tr>\n",
       "      <th>std</th>\n",
       "      <td>2.037387e+05</td>\n",
       "      <td>0.259055</td>\n",
       "      <td>5.226529</td>\n",
       "    </tr>\n",
       "    <tr>\n",
       "      <th>min</th>\n",
       "      <td>5.815400e+04</td>\n",
       "      <td>0.000000</td>\n",
       "      <td>0.440000</td>\n",
       "    </tr>\n",
       "    <tr>\n",
       "      <th>25%</th>\n",
       "      <td>1.400205e+05</td>\n",
       "      <td>0.000000</td>\n",
       "      <td>7.325000</td>\n",
       "    </tr>\n",
       "    <tr>\n",
       "      <th>50%</th>\n",
       "      <td>2.176770e+05</td>\n",
       "      <td>0.000000</td>\n",
       "      <td>12.260000</td>\n",
       "    </tr>\n",
       "    <tr>\n",
       "      <th>75%</th>\n",
       "      <td>3.906120e+05</td>\n",
       "      <td>0.000000</td>\n",
       "      <td>16.087500</td>\n",
       "    </tr>\n",
       "    <tr>\n",
       "      <th>max</th>\n",
       "      <td>1.086390e+06</td>\n",
       "      <td>1.000000</td>\n",
       "      <td>86.690000</td>\n",
       "    </tr>\n",
       "  </tbody>\n",
       "</table>\n",
       "</div>"
      ],
      "text/plain": [
       "       ContactAccountNumber      Churned       Tenure\n",
       "count          9.691000e+03  9691.000000  9556.000000\n",
       "mean           2.812633e+05     0.072335    11.877100\n",
       "std            2.037387e+05     0.259055     5.226529\n",
       "min            5.815400e+04     0.000000     0.440000\n",
       "25%            1.400205e+05     0.000000     7.325000\n",
       "50%            2.176770e+05     0.000000    12.260000\n",
       "75%            3.906120e+05     0.000000    16.087500\n",
       "max            1.086390e+06     1.000000    86.690000"
      ]
     },
     "execution_count": 55,
     "metadata": {},
     "output_type": "execute_result"
    }
   ],
   "source": [
    "doctors_df.describe()"
   ]
  },
  {
   "cell_type": "code",
   "execution_count": 57,
   "id": "240aa565",
   "metadata": {},
   "outputs": [],
   "source": [
    "doctors_df=doctors_df[doctors_df['Tenure'] <30]"
   ]
  },
  {
   "cell_type": "code",
   "execution_count": 58,
   "id": "95d8bf70",
   "metadata": {},
   "outputs": [
    {
     "data": {
      "text/html": [
       "<div>\n",
       "<style scoped>\n",
       "    .dataframe tbody tr th:only-of-type {\n",
       "        vertical-align: middle;\n",
       "    }\n",
       "\n",
       "    .dataframe tbody tr th {\n",
       "        vertical-align: top;\n",
       "    }\n",
       "\n",
       "    .dataframe thead th {\n",
       "        text-align: right;\n",
       "    }\n",
       "</style>\n",
       "<table border=\"1\" class=\"dataframe\">\n",
       "  <thead>\n",
       "    <tr style=\"text-align: right;\">\n",
       "      <th></th>\n",
       "      <th>ContactAccountNumber</th>\n",
       "      <th>Churned</th>\n",
       "      <th>Tenure</th>\n",
       "    </tr>\n",
       "  </thead>\n",
       "  <tbody>\n",
       "    <tr>\n",
       "      <th>count</th>\n",
       "      <td>9.555000e+03</td>\n",
       "      <td>9555.000000</td>\n",
       "      <td>9555.000000</td>\n",
       "    </tr>\n",
       "    <tr>\n",
       "      <th>mean</th>\n",
       "      <td>2.817873e+05</td>\n",
       "      <td>0.071900</td>\n",
       "      <td>11.869271</td>\n",
       "    </tr>\n",
       "    <tr>\n",
       "      <th>std</th>\n",
       "      <td>2.028646e+05</td>\n",
       "      <td>0.258335</td>\n",
       "      <td>5.170452</td>\n",
       "    </tr>\n",
       "    <tr>\n",
       "      <th>min</th>\n",
       "      <td>5.815400e+04</td>\n",
       "      <td>0.000000</td>\n",
       "      <td>0.440000</td>\n",
       "    </tr>\n",
       "    <tr>\n",
       "      <th>25%</th>\n",
       "      <td>1.413435e+05</td>\n",
       "      <td>0.000000</td>\n",
       "      <td>7.320000</td>\n",
       "    </tr>\n",
       "    <tr>\n",
       "      <th>50%</th>\n",
       "      <td>2.184690e+05</td>\n",
       "      <td>0.000000</td>\n",
       "      <td>12.260000</td>\n",
       "    </tr>\n",
       "    <tr>\n",
       "      <th>75%</th>\n",
       "      <td>3.906240e+05</td>\n",
       "      <td>0.000000</td>\n",
       "      <td>16.080000</td>\n",
       "    </tr>\n",
       "    <tr>\n",
       "      <th>max</th>\n",
       "      <td>1.086390e+06</td>\n",
       "      <td>1.000000</td>\n",
       "      <td>21.080000</td>\n",
       "    </tr>\n",
       "  </tbody>\n",
       "</table>\n",
       "</div>"
      ],
      "text/plain": [
       "       ContactAccountNumber      Churned       Tenure\n",
       "count          9.555000e+03  9555.000000  9555.000000\n",
       "mean           2.817873e+05     0.071900    11.869271\n",
       "std            2.028646e+05     0.258335     5.170452\n",
       "min            5.815400e+04     0.000000     0.440000\n",
       "25%            1.413435e+05     0.000000     7.320000\n",
       "50%            2.184690e+05     0.000000    12.260000\n",
       "75%            3.906240e+05     0.000000    16.080000\n",
       "max            1.086390e+06     1.000000    21.080000"
      ]
     },
     "execution_count": 58,
     "metadata": {},
     "output_type": "execute_result"
    }
   ],
   "source": [
    "doctors_df.describe()"
   ]
  },
  {
   "cell_type": "code",
   "execution_count": 59,
   "id": "e725d65d",
   "metadata": {},
   "outputs": [
    {
     "data": {
      "text/plain": [
       "0    8868\n",
       "1     687\n",
       "Name: Churned, dtype: int64"
      ]
     },
     "execution_count": 59,
     "metadata": {},
     "output_type": "execute_result"
    }
   ],
   "source": [
    "doctors_df['Churned'].value_counts()"
   ]
  },
  {
   "cell_type": "code",
   "execution_count": 60,
   "id": "da739e7c",
   "metadata": {},
   "outputs": [
    {
     "data": {
      "text/plain": [
       "<Axes: ylabel='count'>"
      ]
     },
     "execution_count": 60,
     "metadata": {},
     "output_type": "execute_result"
    },
    {
     "data": {
      "image/png": "[encoded data removed]",
      "text/plain": [
       "<Figure size 640x480 with 1 Axes>"
      ]
     },
     "metadata": {},
     "output_type": "display_data"
    }
   ],
   "source": [
    "sns.countplot(doctors_df['Churned'])"
   ]
  },
  {
   "cell_type": "code",
   "execution_count": 61,
   "id": "84fa0bf5",
   "metadata": {},
   "outputs": [
    {
     "name": "stdout",
     "output_type": "stream",
     "text": [
      "92.81004709576138 % of doctors stayed with the company\n",
      "7.189952904238618 % of doctors left with the company\n"
     ]
    }
   ],
   "source": [
    "num_retained = doctors_df[doctors_df.Churned == 0].shape[0]\n",
    "num_churned = doctors_df[doctors_df.Churned == 1].shape[0]\n",
    "\n",
    "print(num_retained/(num_retained + num_churned) *100, '% of doctors stayed with the company')\n",
    "print(num_churned/(num_retained + num_churned) *100, '% of doctors left with the company')"
   ]
  },
  {
   "cell_type": "code",
   "execution_count": 62,
   "id": "6d36af67",
   "metadata": {},
   "outputs": [
    {
     "data": {
      "text/plain": [
       "<Axes: xlabel='ContactProfessionalCategory', ylabel='count'>"
      ]
     },
     "execution_count": 62,
     "metadata": {},
     "output_type": "execute_result"
    },
    {
     "data": {
      "image/png": "[encoded data removed]",
      "text/plain": [
       "<Figure size 640x480 with 1 Axes>"
      ]
     },
     "metadata": {},
     "output_type": "display_data"
    }
   ],
   "source": [
    "sns.countplot(x='ContactProfessionalCategory', hue = 'Churned', data =doctors_df)"
   ]
  },
  {
   "cell_type": "code",
   "execution_count": 63,
   "id": "dd261934",
   "metadata": {},
   "outputs": [
    {
     "data": {
      "text/plain": [
       "<Axes: xlabel='Segment', ylabel='count'>"
      ]
     },
     "execution_count": 63,
     "metadata": {},
     "output_type": "execute_result"
    },
    {
     "data": {
      "image/png": "[encoded data removed]",
      "text/plain": [
       "<Figure size 640x480 with 1 Axes>"
      ]
     },
     "metadata": {},
     "output_type": "display_data"
    }
   ],
   "source": [
    "sns.countplot(x='Segment', hue = 'Churned', data =doctors_df)"
   ]
  },
  {
   "cell_type": "code",
   "execution_count": 64,
   "id": "0c795817",
   "metadata": {},
   "outputs": [
    {
     "data": {
      "text/plain": [
       "<Axes: xlabel='iTero_Installed', ylabel='count'>"
      ]
     },
     "execution_count": 64,
     "metadata": {},
     "output_type": "execute_result"
    },
    {
     "data": {
      "image/png": "[encoded data removed]",
      "text/plain": [
       "<Figure size 640x480 with 1 Axes>"
      ]
     },
     "metadata": {},
     "output_type": "display_data"
    }
   ],
   "source": [
    "sns.countplot(x='iTero_Installed', hue = 'Churned', data =doctors_df)"
   ]
  },
  {
   "cell_type": "code",
   "execution_count": 65,
   "id": "d82c643b",
   "metadata": {},
   "outputs": [
    {
     "data": {
      "image/png": "[encoded data removed]",
      "text/plain": [
       "<Figure size 640x480 with 1 Axes>"
      ]
     },
     "metadata": {},
     "output_type": "display_data"
    }
   ],
   "source": [
    "ax = sns.countplot(x='AdvantageLevel', hue='Churned', data=doctors_df)\n",
    "ax.set_xticklabels(ax.get_xticklabels(), rotation=45)\n",
    "\n",
    "plt.show()\n"
   ]
  },
  {
   "cell_type": "code",
   "execution_count": 66,
   "id": "080648e9",
   "metadata": {},
   "outputs": [
    {
     "data": {
      "text/plain": [
       "<Axes: xlabel='iTero_Installed', ylabel='count'>"
      ]
     },
     "execution_count": 66,
     "metadata": {},
     "output_type": "execute_result"
    },
    {
     "data": {
      "image/png": "[encoded data removed]",
      "text/plain": [
       "<Figure size 640x480 with 1 Axes>"
      ]
     },
     "metadata": {},
     "output_type": "display_data"
    }
   ],
   "source": [
    "sns.countplot(x='iTero_Installed', hue = 'Churned', data =doctors_df)"
   ]
  },
  {
   "cell_type": "code",
   "execution_count": 67,
   "id": "4f12c422",
   "metadata": {},
   "outputs": [
    {
     "data": {
      "text/plain": [
       "Index(['ContactAccountNumber', 'ContactName', 'ContactProfessionalCategory',\n",
       "       'ContactCertificationDate', 'AdvantageLevel', 'Segment',\n",
       "       'iTero_Installed', 'AccountCity', 'AccountState', 'InvSalesAreaLable',\n",
       "       'InvSalesRegionLable', 'InvSalesTerritoryLable', 'Churned', 'Tenure'],\n",
       "      dtype='object')"
      ]
     },
     "execution_count": 67,
     "metadata": {},
     "output_type": "execute_result"
    }
   ],
   "source": [
    "doctors_df.columns"
   ]
  },
  {
   "cell_type": "code",
   "execution_count": 68,
   "id": "92dd3012",
   "metadata": {},
   "outputs": [
    {
     "data": {
      "image/png": "[encoded data removed]",
      "text/plain": [
       "<Figure size 640x480 with 1 Axes>"
      ]
     },
     "metadata": {},
     "output_type": "display_data"
    }
   ],
   "source": [
    "ax = sns.countplot(x='InvSalesAreaLable', hue='Churned', data=doctors_df)\n",
    "ax.set_xticklabels(ax.get_xticklabels(), rotation=45)\n",
    "\n",
    "plt.show()"
   ]
  },
  {
   "cell_type": "code",
   "execution_count": 69,
   "id": "f6e7c298",
   "metadata": {},
   "outputs": [
    {
     "data": {
      "text/plain": [
       "<Axes: xlabel='Tenure', ylabel='Churned'>"
      ]
     },
     "execution_count": 69,
     "metadata": {},
     "output_type": "execute_result"
    },
    {
     "data": {
      "image/png": "[encoded data removed]",
      "text/plain": [
       "<Figure size 640x480 with 1 Axes>"
      ]
     },
     "metadata": {},
     "output_type": "display_data"
    }
   ],
   "source": [
    "\n",
    "sns.barplot(x='Tenure', y='Churned', data=doctors_df)"
   ]
  },
  {
   "cell_type": "code",
   "execution_count": 70,
   "id": "42c4fe37",
   "metadata": {},
   "outputs": [],
   "source": [
    "doctors_df['iTero_Installed'] = doctors_df['iTero_Installed'].replace({'Yes': 1, 'No': 0})"
   ]
  },
  {
   "cell_type": "code",
   "execution_count": 71,
   "id": "e439b1c3",
   "metadata": {},
   "outputs": [
    {
     "data": {
      "text/html": [
       "<style>#sk-container-id-1 {color: black;background-color: white;}#sk-container-id-1 pre{padding: 0;}#sk-container-id-1 div.sk-toggleable {background-color: white;}#sk-container-id-1 label.sk-toggleable__label {cursor: pointer;display: block;width: 100%;margin-bottom: 0;padding: 0.3em;box-sizing: border-box;text-align: center;}#sk-container-id-1 label.sk-toggleable__label-arrow:before {content: \"▸\";float: left;margin-right: 0.25em;color: #696969;}#sk-container-id-1 label.sk-toggleable__label-arrow:hover:before {color: black;}#sk-container-id-1 div.sk-estimator:hover label.sk-toggleable__label-arrow:before {color: black;}#sk-container-id-1 div.sk-toggleable__content {max-height: 0;max-width: 0;overflow: hidden;text-align: left;background-color: #f0f8ff;}#sk-container-id-1 div.sk-toggleable__content pre {margin: 0.2em;color: black;border-radius: 0.25em;background-color: #f0f8ff;}#sk-container-id-1 input.sk-toggleable__control:checked~div.sk-toggleable__content {max-height: 200px;max-width: 100%;overflow: auto;}#sk-container-id-1 input.sk-toggleable__control:checked~label.sk-toggleable__label-arrow:before {content: \"▾\";}#sk-container-id-1 div.sk-estimator input.sk-toggleable__control:checked~label.sk-toggleable__label {background-color: #d4ebff;}#sk-container-id-1 div.sk-label input.sk-toggleable__control:checked~label.sk-toggleable__label {background-color: #d4ebff;}#sk-container-id-1 input.sk-hidden--visually {border: 0;clip: rect(1px 1px 1px 1px);clip: rect(1px, 1px, 1px, 1px);height: 1px;margin: -1px;overflow: hidden;padding: 0;position: absolute;width: 1px;}#sk-container-id-1 div.sk-estimator {font-family: monospace;background-color: #f0f8ff;border: 1px dotted black;border-radius: 0.25em;box-sizing: border-box;margin-bottom: 0.5em;}#sk-container-id-1 div.sk-estimator:hover {background-color: #d4ebff;}#sk-container-id-1 div.sk-parallel-item::after {content: \"\";width: 100%;border-bottom: 1px solid gray;flex-grow: 1;}#sk-container-id-1 div.sk-label:hover label.sk-toggleable__label {background-color: #d4ebff;}#sk-container-id-1 div.sk-serial::before {content: \"\";position: absolute;border-left: 1px solid gray;box-sizing: border-box;top: 0;bottom: 0;left: 50%;z-index: 0;}#sk-container-id-1 div.sk-serial {display: flex;flex-direction: column;align-items: center;background-color: white;padding-right: 0.2em;padding-left: 0.2em;position: relative;}#sk-container-id-1 div.sk-item {position: relative;z-index: 1;}#sk-container-id-1 div.sk-parallel {display: flex;align-items: stretch;justify-content: center;background-color: white;position: relative;}#sk-container-id-1 div.sk-item::before, #sk-container-id-1 div.sk-parallel-item::before {content: \"\";position: absolute;border-left: 1px solid gray;box-sizing: border-box;top: 0;bottom: 0;left: 50%;z-index: -1;}#sk-container-id-1 div.sk-parallel-item {display: flex;flex-direction: column;z-index: 1;position: relative;background-color: white;}#sk-container-id-1 div.sk-parallel-item:first-child::after {align-self: flex-end;width: 50%;}#sk-container-id-1 div.sk-parallel-item:last-child::after {align-self: flex-start;width: 50%;}#sk-container-id-1 div.sk-parallel-item:only-child::after {width: 0;}#sk-container-id-1 div.sk-dashed-wrapped {border: 1px dashed gray;margin: 0 0.4em 0.5em 0.4em;box-sizing: border-box;padding-bottom: 0.4em;background-color: white;}#sk-container-id-1 div.sk-label label {font-family: monospace;font-weight: bold;display: inline-block;line-height: 1.2em;}#sk-container-id-1 div.sk-label-container {text-align: center;}#sk-container-id-1 div.sk-container {/* jupyter's `normalize.less` sets `[hidden] { display: none; }` but bootstrap.min.css set `[hidden] { display: none !important; }` so we also need the `!important` here to be able to override the default hidden behavior on the sphinx rendered scikit-learn.org. See: https://github.com/scikit-learn/scikit-learn/issues/21755 */display: inline-block !important;position: relative;}#sk-container-id-1 div.sk-text-repr-fallback {display: none;}</style><div id=\"sk-container-id-1\" class=\"sk-top-container\"><div class=\"sk-text-repr-fallback\"><pre>LogisticRegression()</pre><b>In a Jupyter environment, please rerun this cell to show the HTML representation or trust the notebook. <br />On GitHub, the HTML representation is unable to render, please try loading this page with nbviewer.org.</b></div><div class=\"sk-container\" hidden><div class=\"sk-item\"><div class=\"sk-estimator sk-toggleable\"><input class=\"sk-toggleable__control sk-hidden--visually\" id=\"sk-estimator-id-1\" type=\"checkbox\" checked><label for=\"sk-estimator-id-1\" class=\"sk-toggleable__label sk-toggleable__label-arrow\">LogisticRegression</label><div class=\"sk-toggleable__content\"><pre>LogisticRegression()</pre></div></div></div></div></div>"
      ],
      "text/plain": [
       "LogisticRegression()"
      ]
     },
     "execution_count": 71,
     "metadata": {},
     "output_type": "execute_result"
    }
   ],
   "source": [
    "X = doctors_df[['iTero_Installed']]\n",
    "y = doctors_df['Churned']\n",
    "\n",
    "# Step 2: Split the data into training and test sets\n",
    "X_train, X_test, y_train, y_test = train_test_split(X, y, test_size=0.2, random_state=42)\n",
    "\n",
    "# Step 3: Create a logistic regression model\n",
    "model = LogisticRegression()\n",
    "\n",
    "# Step 4: Train the model using the training data\n",
    "model.fit(X_train, y_train)\n",
    "\n"
   ]
  },
  {
   "cell_type": "code",
   "execution_count": 72,
   "id": "8d53851d",
   "metadata": {},
   "outputs": [],
   "source": [
    "# Step 5: Make predictions on the test set\n",
    "y_pred = model.predict(X_test)\n",
    "\n"
   ]
  },
  {
   "cell_type": "code",
   "execution_count": 76,
   "id": "8da9c28a",
   "metadata": {},
   "outputs": [
    {
     "name": "stdout",
     "output_type": "stream",
     "text": [
      "Accuracy: 0.9251700680272109\n"
     ]
    }
   ],
   "source": [
    "# Step 6: Evaluate the model\n",
    "accuracy = accuracy_score(y_test, y_pred)\n",
    "print(\"Accuracy:\", accuracy)"
   ]
  },
  {
   "cell_type": "code",
   "execution_count": 77,
   "id": "ac250a4c",
   "metadata": {},
   "outputs": [
    {
     "name": "stdout",
     "output_type": "stream",
     "text": [
      "iTero_Installed: iTero_Installed\n",
      "Coefficient: -0.7234413772347946\n",
      "Odds Ratio: 0.48508003684607254\n",
      "\n"
     ]
    }
   ],
   "source": [
    "coefficients = model.coef_[0]\n",
    "odds_ratios = np.exp(coefficients)\n",
    "\n",
    "# Step 4: Interpret the coefficients or odds ratios\n",
    "for i in range(len(coefficients)):\n",
    "    print(f\"iTero_Installed: {X.columns[i]}\")\n",
    "    print(f\"Coefficient: {coefficients[i]}\")\n",
    "    print(f\"Odds Ratio: {odds_ratios[i]}\\n\")"
   ]
  },
  {
   "cell_type": "code",
   "execution_count": 78,
   "id": "c8a313e6",
   "metadata": {},
   "outputs": [
    {
     "name": "stderr",
     "output_type": "stream",
     "text": [
      "/Users/joeyren/Library/Python/3.9/lib/python/site-packages/sklearn/base.py:439: UserWarning: X does not have valid feature names, but LogisticRegression was fitted with feature names\n",
      "  warnings.warn(\n"
     ]
    },
    {
     "data": {
      "text/plain": [
       "<matplotlib.legend.Legend at 0x1371b3940>"
      ]
     },
     "execution_count": 78,
     "metadata": {},
     "output_type": "execute_result"
    },
    {
     "data": {
      "image/png": "[encoded data removed]",
      "text/plain": [
       "<Figure size 640x480 with 1 Axes>"
      ]
     },
     "metadata": {},
     "output_type": "display_data"
    }
   ],
   "source": [
    "plt.scatter(X, y, color='blue', label='Actual')\n",
    "\n",
    "# Step 4: Add the logistic regression decision boundary to the plot\n",
    "x_values = np.linspace(min(X.values), max(X.values), 100).reshape(-1, 1)\n",
    "y_prob = model.predict_proba(x_values)[:, 1]\n",
    "plt.plot(x_values, y_prob, color='red', label='Logistic Regression')\n",
    "\n",
    "# Step 5: Customize the plot\n",
    "plt.xlabel('iTero_Installed')\n",
    "plt.ylabel('Churned')\n",
    "plt.legend()\n"
   ]
  }
 ],
 "metadata": {
  "kernelspec": {
   "display_name": "Python 3 (ipykernel)",
   "language": "python",
   "name": "python3"
  },
  "language_info": {
   "codemirror_mode": {
    "name": "ipython",
    "version": 3
   },
   "file_extension": ".py",
   "mimetype": "text/x-python",
   "name": "python",
   "nbconvert_exporter": "python",
   "pygments_lexer": "ipython3",
   "version": "3.9.6"
  }
 },
 "nbformat": 4,
 "nbformat_minor": 5
}
